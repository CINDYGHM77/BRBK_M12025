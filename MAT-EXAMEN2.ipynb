{
  "cells": [
    {
      "cell_type": "markdown",
      "metadata": {
        "id": "view-in-github",
        "colab_type": "text"
      },
      "source": [
        "<a href=\"https://colab.research.google.com/github/CINDYGHM77/BRBK_M12025/blob/main/MAT-EXAMEN2.ipynb\" target=\"_parent\"><img src=\"https://colab.research.google.com/assets/colab-badge.svg\" alt=\"Open In Colab\"/></a>"
      ]
    },
    {
      "cell_type": "markdown",
      "metadata": {
        "id": "Wf5KrEb6vrkR"
      },
      "source": [
        "# Exámen 2 del módulo de matemáticas\n",
        "## Cindy Guadalupe Hernández Morales"
      ]
    },
    {
      "cell_type": "code",
      "source": [
        "import numpy as np\n",
        "import io, zipfile, requests, pandas as pd\n",
        "from PIL import Image\n",
        "from IPython.display import display\n",
        "from sklearn.decomposition import PCA, TruncatedSVD"
      ],
      "metadata": {
        "id": "bzaYQ6FsRkRm"
      },
      "execution_count": 15,
      "outputs": []
    },
    {
      "cell_type": "markdown",
      "source": [
        "#### **Ejercicio 1**\n",
        "#### Sin utilizar Numpy defina una función en Python para multiplicar dos matrices de tamañoarbitrario."
      ],
      "metadata": {
        "id": "mrm84NynN8E6"
      }
    },
    {
      "cell_type": "code",
      "source": [
        "## Función que multiplica dos matrices\n",
        "def multiplicar_matrices(A, B):\n",
        "    # Verifica que se puedan multiplicar (número de columnas de A = número de filas de B)\n",
        "    if len(A[0]) != len(B):\n",
        "        raise ValueError(\"El número de columnas de A debe ser igual al número de filas de B\")\n",
        "\n",
        "    # Crea la matriz resultado con ceros\n",
        "    resultado = [[0 for _ in range(len(B[0]))] for _ in range(len(A))]\n",
        "\n",
        "    # Multiplicación\n",
        "    for i in range(len(A)):\n",
        "        for j in range(len(B[0])):\n",
        "            print(\"-\"*5)\n",
        "            for k in range(len(B)):\n",
        "                print(f\"A[{i}][{k}] {A[i][k]} * B[{k}][{j}] {B[k][j]}\")\n",
        "                resultado[i][j] += A[i][k] * B[k][j]\n",
        "\n",
        "    return resultado"
      ],
      "metadata": {
        "id": "JuijmWF0N6Ah"
      },
      "execution_count": 4,
      "outputs": []
    },
    {
      "cell_type": "code",
      "source": [
        "# Definición de matrices\n",
        "A = [[1, 2, 3],\n",
        "     [4, 5, 6]]\n",
        "\n",
        "B = [[7, 8],\n",
        "     [9, 10],\n",
        "     [11, 12]]\n",
        "\n",
        "resultado = multiplicar_matrices(A, B)\n",
        "print(\"-\"*5)\n",
        "print(resultado) # El resultado es una matriz de 2 x 2"
      ],
      "metadata": {
        "colab": {
          "base_uri": "https://localhost:8080/"
        },
        "id": "mKvak8PZO4AS",
        "outputId": "e190ea75-e4b0-4ebd-9186-a6def274d385"
      },
      "execution_count": 3,
      "outputs": [
        {
          "output_type": "stream",
          "name": "stdout",
          "text": [
            "-----\n",
            "A[0][0] 1 * B[0][0] 7\n",
            "A[0][1] 2 * B[1][0] 9\n",
            "A[0][2] 3 * B[2][0] 11\n",
            "-----\n",
            "A[0][0] 1 * B[0][1] 8\n",
            "A[0][1] 2 * B[1][1] 10\n",
            "A[0][2] 3 * B[2][1] 12\n",
            "-----\n",
            "A[1][0] 4 * B[0][0] 7\n",
            "A[1][1] 5 * B[1][0] 9\n",
            "A[1][2] 6 * B[2][0] 11\n",
            "-----\n",
            "A[1][0] 4 * B[0][1] 8\n",
            "A[1][1] 5 * B[1][1] 10\n",
            "A[1][2] 6 * B[2][1] 12\n",
            "-----\n",
            "[[58, 64], [139, 154]]\n"
          ]
        }
      ]
    },
    {
      "cell_type": "markdown",
      "source": [
        "#### **Ejercicio 2**\n",
        "#### Utilizar la descomposición en valores singulares para resolver alguno de los sistemas de ecuaciones de la primera semana.\n",
        "\n",
        "$$\n",
        "\\begin{cases}\n",
        "y - x + 1 = 0\\\\\n",
        "0y + 3x - 0 = 0\n",
        "\\end{cases}\n",
        "$$\n",
        "\n",
        "$$\n",
        "\\begin{cases}\n",
        "-x + y = -1\\\\\n",
        "+3x + 0y = 0\n",
        "\\end{cases}\n",
        "$$\n"
      ],
      "metadata": {
        "id": "lJsVeQhKQdnk"
      }
    },
    {
      "cell_type": "code",
      "source": [
        "# Despomposición de Vectores Singulares (SVD)\n",
        "A = np.array([[-1, 1],\n",
        "              [3, 0]], dtype=float)\n",
        "b = np.array([-1, 0], dtype=float)\n",
        "\n",
        "# Descomposición SVD\n",
        "U, S, VT = np.linalg.svd(A)\n",
        "\n",
        "# Invertimos los valores singulares\n",
        "S_inv = np.diag(1 / S)\n",
        "\n",
        "# Construimos la inversa manualmente\n",
        "A_inv = VT.T @ S_inv @ U.T\n",
        "\n",
        "# Resolvemos el sistema\n",
        "x = A_inv @ b\n",
        "print(\"Solución usando SVD:\", x)"
      ],
      "metadata": {
        "colab": {
          "base_uri": "https://localhost:8080/"
        },
        "id": "-z8IQjRGRQPF",
        "outputId": "c266863f-f689-4b2f-9b59-4653d54ff63a"
      },
      "execution_count": 7,
      "outputs": [
        {
          "output_type": "stream",
          "name": "stdout",
          "text": [
            "Solución usando SVD: [ 5.18669719e-18 -1.00000000e+00]\n"
          ]
        }
      ]
    },
    {
      "cell_type": "markdown",
      "source": [
        "#### **Ejercicio 3**\n",
        "#### Utilizando la base de datos MNIST, comparar la reducción de PCA contra la de descomposición en valores singulares. La métrica que utilizaremos será la medida del coseno promedio (al reducir la dimensión) entre las imágenes del mismo dígito."
      ],
      "metadata": {
        "id": "4s_RhOI2WF3K"
      }
    },
    {
      "cell_type": "code",
      "source": [
        "url = \"https://www.interactivechaos.com/data/mnist.zip\"\n",
        "\n",
        "# Descarga el ZIP en memoria\n",
        "resp = requests.get(url, stream=True)\n",
        "resp.raise_for_status()\n",
        "\n",
        "# Abre el ZIP desde memoria\n",
        "with zipfile.ZipFile(io.BytesIO(resp.content)) as z:\n",
        "    csv_name = [n for n in z.namelist() if n.lower().endswith(\".csv\")][0]\n",
        "    print(\"CSV dentro del ZIP:\", csv_name)\n",
        "\n",
        "    with z.open(csv_name) as f:\n",
        "        df = pd.read_csv(f, header=None)\n",
        "\n",
        "y = df.iloc[:, 0].to_numpy()\n",
        "X = df.iloc[:, 1:].to_numpy(dtype=\"float32\") / 255.0\n",
        "\n",
        "print(\"df:\", df.shape, \"X:\", X.shape, \"y:\", y.shape)"
      ],
      "metadata": {
        "colab": {
          "base_uri": "https://localhost:8080/"
        },
        "id": "_tmn2HyAWYcS",
        "outputId": "ad7417e4-4d04-46eb-d58a-41f6b2df9d03"
      },
      "execution_count": 10,
      "outputs": [
        {
          "output_type": "stream",
          "name": "stdout",
          "text": [
            "CSV dentro del ZIP: mnist.csv\n",
            "df: (60000, 785) X: (60000, 784) y: (60000,)\n"
          ]
        }
      ]
    },
    {
      "cell_type": "code",
      "source": [
        "min(X[10]), max(X[10])"
      ],
      "metadata": {
        "colab": {
          "base_uri": "https://localhost:8080/"
        },
        "id": "S5JlIGVTXZkE",
        "outputId": "24854ac3-9065-45c2-9257-7226f11c462f"
      },
      "execution_count": 11,
      "outputs": [
        {
          "output_type": "execute_result",
          "data": {
            "text/plain": [
              "(np.float32(0.0), np.float32(0.99607843))"
            ]
          },
          "metadata": {},
          "execution_count": 11
        }
      ]
    },
    {
      "cell_type": "code",
      "source": [
        "\n",
        "def ver_par_pil(X, y, idx1, idx2):\n",
        "    def to_img(x):\n",
        "        arr = (x.reshape(28, 28) * 255).clip(0, 255).astype(np.uint8)\n",
        "        return Image.fromarray(arr, mode=\"L\")\n",
        "\n",
        "    im1, im2 = to_img(X[idx1]), to_img(X[idx2])\n",
        "    print(f\"Primera etiqueta: {y[idx1]}\")\n",
        "    display(im1)\n",
        "    print(f\"Segunda etiqueta: {y[idx2]}\")\n",
        "    display(im2)\n",
        "\n",
        "ver_par_pil(X, y, 10, 11)\n"
      ],
      "metadata": {
        "colab": {
          "base_uri": "https://localhost:8080/",
          "height": 146
        },
        "id": "iMXaOKOWXayL",
        "outputId": "89a43f1c-f39e-4d02-e917-d868eda85902"
      },
      "execution_count": 14,
      "outputs": [
        {
          "output_type": "stream",
          "name": "stdout",
          "text": [
            "Primera etiqueta: 3\n"
          ]
        },
        {
          "output_type": "stream",
          "name": "stderr",
          "text": [
            "/tmp/ipython-input-214381054.py:4: DeprecationWarning: 'mode' parameter is deprecated and will be removed in Pillow 13 (2026-10-15)\n",
            "  return Image.fromarray(arr, mode=\"L\")\n"
          ]
        },
        {
          "output_type": "display_data",
          "data": {
            "text/plain": [
              "<PIL.Image.Image image mode=L size=28x28>"
            ],
            "image/png": "[encoded data removed]",
            "image/jpeg": "[encoded data removed]"
          },
          "metadata": {}
        },
        {
          "output_type": "stream",
          "name": "stdout",
          "text": [
            "Segunda etiqueta: 5\n"
          ]
        },
        {
          "output_type": "display_data",
          "data": {
            "text/plain": [
              "<PIL.Image.Image image mode=L size=28x28>"
            ],
            "image/png": "[encoded data removed]",
            "image/jpeg": "[encoded data removed]"
          },
          "metadata": {}
        }
      ]
    },
    {
      "cell_type": "code",
      "source": [
        "def mean_cosine_intra_digit_loops(Z, y, max_rows=500):\n",
        "    eps = 1e-12\n",
        "    per_digit = {}\n",
        "\n",
        "    for d in range(10):\n",
        "        idx = np.where(y == d)[0]\n",
        "        if idx.size < 2:\n",
        "            per_digit[d] = np.nan\n",
        "            continue\n",
        "\n",
        "        sum_cos, cnt = 0.0, 0\n",
        "        if max_rows is not None:\n",
        "            idx = idx[:max_rows]\n",
        "        for a in range(len(idx)):\n",
        "            i = idx[a]\n",
        "            zi = Z[i]\n",
        "            ni = np.linalg.norm(zi)\n",
        "            if ni < eps:\n",
        "                continue\n",
        "            for b in range(a + 1, len(idx)):\n",
        "                j = idx[b]\n",
        "                zj = Z[j]\n",
        "                nj = np.linalg.norm(zj)\n",
        "                if nj < eps:\n",
        "                    continue\n",
        "                cos_ij = float(np.dot(zi, zj) / (ni * nj))\n",
        "                sum_cos += cos_ij\n",
        "                cnt += 1\n",
        "\n",
        "        per_digit[d] = (sum_cos / cnt) if cnt > 0 else np.nan\n",
        "\n",
        "    vals = [v for v in per_digit.values() if not np.isnan(v)]\n",
        "    global_mean = float(np.mean(vals)) if vals else np.nan\n",
        "    return per_digit, global_mean"
      ],
      "metadata": {
        "id": "5ZwhFOUbX3iM"
      },
      "execution_count": 17,
      "outputs": []
    },
    {
      "cell_type": "code",
      "source": [
        "# Dimensiones a obtener\n",
        "k = 50\n",
        "\n",
        "# PCA\n",
        "pca = PCA(n_components=k, random_state=0)\n",
        "Z_pca = pca.fit_transform(X)\n",
        "\n",
        "# SVD\n",
        "tsvd = TruncatedSVD(n_components=k, random_state=0)\n",
        "Z_svd = tsvd.fit_transform(X)"
      ],
      "metadata": {
        "id": "OB4juYTSX_tm"
      },
      "execution_count": 18,
      "outputs": []
    },
    {
      "cell_type": "code",
      "source": [
        "# Comparar la media del conseno entre numeros\n",
        "per_pca, g_pca = mean_cosine_intra_digit_loops(Z_pca, y, max_rows=2000)\n",
        "per_svd, g_svd = mean_cosine_intra_digit_loops(Z_svd, y, max_rows=2000)"
      ],
      "metadata": {
        "id": "UmgS0SahYQPN"
      },
      "execution_count": 19,
      "outputs": []
    },
    {
      "cell_type": "code",
      "source": [
        "df = pd.DataFrame({\n",
        "    \"Digito\": list(range(10)),\n",
        "    \"PCA\": [per_pca[d] for d in range(10)],\n",
        "    \"SVD\": [per_svd[d] for d in range(10)],\n",
        "})\n",
        "print(df.to_string(index=False, float_format=lambda v: f\"{v:.3f}\"))\n",
        "print(\"Media global PCA:\", round(g_pca, 3))\n",
        "print(\"Media global mean SVD:\", round(g_svd, 3))"
      ],
      "metadata": {
        "colab": {
          "base_uri": "https://localhost:8080/"
        },
        "id": "pmz5aIFuZzSe",
        "outputId": "bde1aa68-d06b-4b61-bf7c-a38a84fc6ab7"
      },
      "execution_count": 20,
      "outputs": [
        {
          "output_type": "stream",
          "name": "stdout",
          "text": [
            " Digito   PCA   SVD\n",
            "      0 0.336 0.632\n",
            "      1 0.475 0.632\n",
            "      2 0.187 0.567\n",
            "      3 0.211 0.592\n",
            "      4 0.222 0.561\n",
            "      5 0.111 0.500\n",
            "      6 0.266 0.611\n",
            "      7 0.288 0.584\n",
            "      8 0.149 0.620\n",
            "      9 0.192 0.592\n",
            "Media global PCA: 0.244\n",
            "Media global mean SVD: 0.589\n"
          ]
        }
      ]
    }
  ],
  "metadata": {
    "colab": {
      "name": "Te damos la bienvenida a Colab",
      "toc_visible": true,
      "provenance": [],
      "include_colab_link": true
    },
    "kernelspec": {
      "display_name": "Python 3",
      "name": "python3"
    }
  },
  "nbformat": 4,
  "nbformat_minor": 0
}